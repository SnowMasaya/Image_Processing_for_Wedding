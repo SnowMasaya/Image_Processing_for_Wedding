{
 "cells": [
  {
   "cell_type": "markdown",
   "metadata": {},
   "source": [
    "# Computer Vision For Python\n",
    "[結婚式で余興を頼まれた時の画像処理](http://qiita.com/GushiSnow/private/1b855f94bd43001e85e3) の各処理をコードで再現した時ものです。\n",
    "\n",
    "* 今回は結婚式の余興で使われる画像処理の実装を下記に示します\n",
    "\n",
    "![](./img/marrige.jpeg)\n",
    "\n",
    "以下では、このChainerを利用しデータを準備するところから実際にNN対話モデルを構築し学習・評価を行うまでの手順を解説します。\n",
    "\n",
    "<A HREF=#1.各種ライブラリ導入 >1.各種ライブラリ導入</A><br>\n",
    "<A HREF=#2.データの設定 >2.データの設定</A><br>\n",
    "<A HREF=#3.特徴量抽出 >3.特徴量抽出</A><br>\n",
    "<A HREF=#4.写像される側の画像読み込み >4.写像される側の画像読み込み</A><br>\n",
    "<A HREF=#5.学習したモデルの動作テスト >5.学習したモデルの動作テスト</A><br>"
   ]
  },
  {
   "cell_type": "markdown",
   "metadata": {},
   "source": [
    "##  <A NAME=1.各種ライブラリ導入 /> 1.各種ライブラリ導入"
   ]
  },
  {
   "cell_type": "markdown",
   "metadata": {},
   "source": [
    "今回の画像処理に必要なライブラリの導入を行なう。"
   ]
  },
  {
   "cell_type": "code",
   "execution_count": 1,
   "metadata": {
    "collapsed": false,
    "scrolled": false
   },
   "outputs": [
    {
     "name": "stderr",
     "output_type": "stream",
     "text": [
      "/Users/smap2/.pyenv/versions/2.7/lib/python2.7/site-packages/matplotlib/cbook.py:137: MatplotlibDeprecationWarning: The matplotlib.delaunay module was deprecated in version 1.4. Use matplotlib.tri.Triangulation instead.\n",
      "  warnings.warn(message, mplDeprecation, stacklevel=1)\n"
     ]
    }
   ],
   "source": [
    "from pylab import *\n",
    "from numpy import *\n",
    "from PIL import Image\n",
    "import matplotlib.pyplot as plt\n",
    "\n",
    "from PCV.geometry import homography, warp"
   ]
  },
  {
   "cell_type": "markdown",
   "metadata": {},
   "source": [
    "##  <A NAME=2.データの設定 /> 2.データの設定"
   ]
  },
  {
   "cell_type": "markdown",
   "metadata": {},
   "source": [
    "データフォルダのパスを設定します。"
   ]
  },
  {
   "cell_type": "code",
   "execution_count": 2,
   "metadata": {
    "collapsed": false
   },
   "outputs": [],
   "source": [
    "# open image to warp\n",
    "#fromim = array(Image.open('./data/sunset_tree.jpg')) \n",
    "fromim = array(Image.open('./img/couple.jpg')) \n",
    "x,y = meshgrid(range(5),range(6))\n",
    "\n",
    "x = (fromim.shape[1]/4) * x.flatten()\n",
    "y = (fromim.shape[0]/5) * y.flatten()"
   ]
  },
  {
   "cell_type": "markdown",
   "metadata": {},
   "source": [
    "##  <A NAME=3.特徴量抽出 /> 3.特徴量抽出"
   ]
  },
  {
   "cell_type": "markdown",
   "metadata": {},
   "source": [
    "特徴量を抽出、マッチングを行います。"
   ]
  },
  {
   "cell_type": "code",
   "execution_count": 3,
   "metadata": {
    "collapsed": false
   },
   "outputs": [],
   "source": [
    "# triangulate\n",
    "tri = warp.triangulate_points(x,y)"
   ]
  },
  {
   "cell_type": "markdown",
   "metadata": {},
   "source": [
    "##  <A NAME=4.写像される側の画像読み込み /> 4.写像される側の画像読み込み"
   ]
  },
  {
   "cell_type": "code",
   "execution_count": 4,
   "metadata": {
    "collapsed": false,
    "scrolled": true
   },
   "outputs": [],
   "source": [
    "# open image and destination points\n",
    "#im = array(Image.open('./data/turningtorso1.jpg'))\n",
    "#im = array(Image.open('./img/nishishinjyuku_21.jpg'))\n",
    "im = array(Image.open('./img/marrige.jpeg'))\n",
    "\n",
    "tp = loadtxt('./data/turningtorso1_points.txt', 'int') # destination points\n",
    "#tp = loadtxt('./data/turningtorso1_points2.txt', 'int') # destination points\n"
   ]
  },
  {
   "cell_type": "markdown",
   "metadata": {},
   "source": [
    "##  <A NAME=5.ホモグラフィ変換用にデータの形式を変更 /> 5.ホモグラフィ変換用にデータの形式を変更"
   ]
  },
  {
   "cell_type": "markdown",
   "metadata": {},
   "source": [
    "変換前の画像と変換後の画像の座標を変更している\n"
   ]
  },
  {
   "cell_type": "code",
   "execution_count": 5,
   "metadata": {
    "collapsed": false
   },
   "outputs": [],
   "source": [
    "# convert points to hom. coordinates (make sure they are of type int)\n",
    "fp = array( vstack((y,x,ones((1,len(x))))), 'int')\n",
    "tp = array( vstack((tp[:,1],tp[:,0],ones((1,len(tp))))), 'int')"
   ]
  },
  {
   "cell_type": "markdown",
   "metadata": {
    "collapsed": true
   },
   "source": [
    "##  <A NAME=6. アフィン変換処理/> 6.アフィン変換処理"
   ]
  },
  {
   "cell_type": "markdown",
   "metadata": {},
   "source": [
    "画像の特徴のポイントを使用してアフィン変換処理"
   ]
  },
  {
   "cell_type": "code",
   "execution_count": null,
   "metadata": {
    "collapsed": false
   },
   "outputs": [],
   "source": [
    "# warp triangles\n",
    "im = warp.pw_affine(fromim,im,fp,tp,tri)"
   ]
  },
  {
   "cell_type": "markdown",
   "metadata": {},
   "source": [
    "##  <A NAME=7. 画像の表示/> 7.画像の表示"
   ]
  },
  {
   "cell_type": "markdown",
   "metadata": {},
   "source": [
    "画像の表示処理を行う"
   ]
  },
  {
   "cell_type": "code",
   "execution_count": null,
   "metadata": {
    "collapsed": false
   },
   "outputs": [],
   "source": [
    "plt.figure()\n",
    "plt.imshow(im)  \n",
    "plt.axis('off')\n",
    "plt.show()"
   ]
  },
  {
   "cell_type": "markdown",
   "metadata": {
    "collapsed": true
   },
   "source": [
    "##  <A NAME=8. 表示された画像例/> 8.表示された画像例"
   ]
  },
  {
   "cell_type": "markdown",
   "metadata": {},
   "source": [
    "無理やり写像したカップルの画像です。\n",
    "\n",
    "カップルの画像がずれているのは写像するポイント指定を適切に行っていないためです。\n",
    "下記で座標指定を行っているので下記のテキストファイルを修正すると良いです。\n",
    "\n",
    "turningtorso1_points.txt"
   ]
  },
  {
   "cell_type": "markdown",
   "metadata": {},
   "source": [
    "![](./img/couple.jpg)\n",
    "![](./img/couple_afin.jpg)\n"
   ]
  },
  {
   "cell_type": "code",
   "execution_count": null,
   "metadata": {
    "collapsed": true
   },
   "outputs": [],
   "source": []
  }
 ],
 "metadata": {
  "kernelspec": {
   "display_name": "Python 2",
   "language": "python",
   "name": "python2"
  },
  "language_info": {
   "codemirror_mode": {
    "name": "ipython",
    "version": 2
   },
   "file_extension": ".py",
   "mimetype": "text/x-python",
   "name": "python",
   "nbconvert_exporter": "python",
   "pygments_lexer": "ipython2",
   "version": "2.7"
  }
 },
 "nbformat": 4,
 "nbformat_minor": 0
}
